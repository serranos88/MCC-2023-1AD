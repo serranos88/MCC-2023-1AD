{
 "cells": [
  {
   "cell_type": "markdown",
   "metadata": {},
   "source": [
    "FACE RECOGNITION"
   ]
  },
  {
   "cell_type": "code",
   "execution_count": 8,
   "metadata": {},
   "outputs": [
    {
     "name": "stdout",
     "output_type": "stream",
     "text": [
      "[(142, 498, 409, 230)]\n",
      "[{'chin': [(268, 239), (273, 266), (277, 294), (284, 321), (294, 347), (309, 371), (326, 393), (348, 409), (375, 413), (401, 407), (423, 390), (440, 369), (454, 345), (461, 318), (464, 289), (466, 260), (468, 232)], 'left_eyebrow': [(277, 208), (289, 191), (309, 187), (330, 189), (349, 195)], 'right_eyebrow': [(378, 192), (397, 184), (418, 180), (437, 184), (450, 198)], 'nose_bridge': [(365, 215), (366, 233), (366, 252), (367, 271)], 'nose_tip': [(346, 293), (357, 294), (367, 296), (376, 294), (386, 293)], 'left_eye': [(297, 226), (308, 220), (323, 220), (335, 226), (323, 231), (308, 232)], 'right_eye': [(392, 224), (405, 217), (419, 217), (431, 222), (420, 228), (406, 228)], 'top_lip': [(330, 338), (341, 325), (355, 318), (366, 322), (378, 318), (395, 326), (409, 337), (402, 337), (379, 333), (367, 335), (355, 334), (337, 337)], 'bottom_lip': [(409, 337), (397, 350), (382, 355), (368, 357), (356, 356), (343, 350), (330, 338), (337, 337), (356, 337), (367, 339), (380, 338), (402, 337)]}]\n",
      "The chin in this face has the following points: [(268, 239), (273, 266), (277, 294), (284, 321), (294, 347), (309, 371), (326, 393), (348, 409), (375, 413), (401, 407), (423, 390), (440, 369), (454, 345), (461, 318), (464, 289), (466, 260), (468, 232)]\n",
      "The left_eyebrow in this face has the following points: [(277, 208), (289, 191), (309, 187), (330, 189), (349, 195)]\n",
      "The right_eyebrow in this face has the following points: [(378, 192), (397, 184), (418, 180), (437, 184), (450, 198)]\n",
      "The nose_bridge in this face has the following points: [(365, 215), (366, 233), (366, 252), (367, 271)]\n",
      "The nose_tip in this face has the following points: [(346, 293), (357, 294), (367, 296), (376, 294), (386, 293)]\n",
      "The left_eye in this face has the following points: [(297, 226), (308, 220), (323, 220), (335, 226), (323, 231), (308, 232)]\n",
      "The right_eye in this face has the following points: [(392, 224), (405, 217), (419, 217), (431, 222), (420, 228), (406, 228)]\n",
      "The top_lip in this face has the following points: [(330, 338), (341, 325), (355, 318), (366, 322), (378, 318), (395, 326), (409, 337), (402, 337), (379, 333), (367, 335), (355, 334), (337, 337)]\n",
      "The bottom_lip in this face has the following points: [(409, 337), (397, 350), (382, 355), (368, 357), (356, 356), (343, 350), (330, 338), (337, 337), (356, 337), (367, 339), (380, 338), (402, 337)]\n"
     ]
    }
   ],
   "source": [
    "import face_recognition\n",
    "import PIL.Image as Image\n",
    "import PIL.ImageDraw as ImageDraw\n",
    "\n",
    "image = face_recognition.load_image_file(\"C:\\\\Users\\\\josek\\\\Desktop\\\\Maestria\\\\SEMESTRE 2\\\\TOPICOS DE IA\\\\image_400.jpeg\")\n",
    "face_locations = face_recognition.face_locations(image)\n",
    "print(face_locations)\n",
    "face_landmarks_list = face_recognition.face_landmarks(image)\n",
    "print(face_landmarks_list)\n",
    "\n",
    "for face_landmarks in face_landmarks_list:\n",
    "    pil_image = Image.fromarray(image)\n",
    "    pil_image.show()\n",
    "    for facial_feature in face_landmarks.keys():\n",
    "        print(\"The {} in this face has the following points: {}\".format(facial_feature, face_landmarks[facial_feature]))\n",
    "        d = ImageDraw.Draw(pil_image, 'RGBA')\n",
    "        d.line(face_landmarks[facial_feature], fill=(255, 0, 0, 128), width=10)\n",
    "    pil_image.show()"
   ]
  }
 ],
 "metadata": {
  "kernelspec": {
   "display_name": "Python 3",
   "language": "python",
   "name": "python3"
  },
  "language_info": {
   "codemirror_mode": {
    "name": "ipython",
    "version": 3
   },
   "file_extension": ".py",
   "mimetype": "text/x-python",
   "name": "python",
   "nbconvert_exporter": "python",
   "pygments_lexer": "ipython3",
   "version": "3.9.0"
  }
 },
 "nbformat": 4,
 "nbformat_minor": 2
}
