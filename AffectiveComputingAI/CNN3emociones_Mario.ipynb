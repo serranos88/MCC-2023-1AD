{
 "cells": [
  {
   "cell_type": "code",
   "execution_count": 1,
   "metadata": {},
   "outputs": [],
   "source": [
    "import pandas as pd\n",
    "import numpy as np\n",
    "import cv2\n",
    "import tensorflow as tf\n",
    "\n",
    "from sklearn.model_selection import train_test_split\n",
    "from tensorflow.keras import layers,models"
   ]
  },
  {
   "cell_type": "code",
   "execution_count": 2,
   "metadata": {},
   "outputs": [],
   "source": [
    "df = pd.read_pickle('3Emociones.pkl')"
   ]
  },
  {
   "cell_type": "code",
   "execution_count": 3,
   "metadata": {},
   "outputs": [
    {
     "name": "stdout",
     "output_type": "stream",
     "text": [
      "<class 'pandas.core.frame.DataFrame'>\n",
      "Index: 4623 entries, 0 to 4622\n",
      "Data columns (total 4 columns):\n",
      " #   Column           Non-Null Count  Dtype \n",
      "---  ------           --------------  ----- \n",
      " 0   Imagen           4623 non-null   object\n",
      " 1   Imagen con zoom  4623 non-null   object\n",
      " 2   Hitos faciales   4623 non-null   object\n",
      " 3   Etiquetas        4623 non-null   object\n",
      "dtypes: object(4)\n",
      "memory usage: 180.6+ KB\n"
     ]
    }
   ],
   "source": [
    "df.info()"
   ]
  },
  {
   "cell_type": "code",
   "execution_count": 4,
   "metadata": {},
   "outputs": [
    {
     "data": {
      "text/html": [
       "<div>\n",
       "<style scoped>\n",
       "    .dataframe tbody tr th:only-of-type {\n",
       "        vertical-align: middle;\n",
       "    }\n",
       "\n",
       "    .dataframe tbody tr th {\n",
       "        vertical-align: top;\n",
       "    }\n",
       "\n",
       "    .dataframe thead th {\n",
       "        text-align: right;\n",
       "    }\n",
       "</style>\n",
       "<table border=\"1\" class=\"dataframe\">\n",
       "  <thead>\n",
       "    <tr style=\"text-align: right;\">\n",
       "      <th></th>\n",
       "      <th>Imagen</th>\n",
       "      <th>Imagen con zoom</th>\n",
       "      <th>Hitos faciales</th>\n",
       "      <th>Etiquetas</th>\n",
       "    </tr>\n",
       "  </thead>\n",
       "  <tbody>\n",
       "    <tr>\n",
       "      <th>0</th>\n",
       "      <td>[[165, 166, 164, 167, 167, 166, 167, 167, 167,...</td>\n",
       "      <td>[[161, 160, 161, 161, 161, 161, 161, 160, 99, ...</td>\n",
       "      <td>[[62, 83], [62, 88], [63, 93], [63, 97], [64, ...</td>\n",
       "      <td>bored</td>\n",
       "    </tr>\n",
       "    <tr>\n",
       "      <th>1</th>\n",
       "      <td>[[165, 166, 165, 166, 167, 167, 167, 167, 167,...</td>\n",
       "      <td>[[160, 161, 160, 161, 161, 162, 161, 162, 132,...</td>\n",
       "      <td>[[62, 83], [62, 88], [63, 93], [63, 97], [64, ...</td>\n",
       "      <td>bored</td>\n",
       "    </tr>\n",
       "    <tr>\n",
       "      <th>2</th>\n",
       "      <td>[[165, 165, 165, 166, 167, 166, 166, 167, 167,...</td>\n",
       "      <td>[[160, 161, 161, 60, 36, 76, 88, 88, 92, 102, ...</td>\n",
       "      <td>[[63, 82], [63, 87], [63, 91], [63, 96], [65, ...</td>\n",
       "      <td>bored</td>\n",
       "    </tr>\n",
       "    <tr>\n",
       "      <th>3</th>\n",
       "      <td>[[165, 166, 165, 165, 166, 167, 167, 167, 167,...</td>\n",
       "      <td>[[160, 161, 160, 45, 42, 81, 88, 88, 92, 101, ...</td>\n",
       "      <td>[[63, 83], [63, 87], [63, 92], [64, 97], [65, ...</td>\n",
       "      <td>bored</td>\n",
       "    </tr>\n",
       "    <tr>\n",
       "      <th>4</th>\n",
       "      <td>[[165, 166, 166, 166, 166, 167, 166, 166, 167,...</td>\n",
       "      <td>[[160, 160, 160, 41, 43, 81, 88, 88, 92, 102, ...</td>\n",
       "      <td>[[63, 83], [63, 88], [63, 92], [64, 97], [65, ...</td>\n",
       "      <td>bored</td>\n",
       "    </tr>\n",
       "  </tbody>\n",
       "</table>\n",
       "</div>"
      ],
      "text/plain": [
       "                                              Imagen  \\\n",
       "0  [[165, 166, 164, 167, 167, 166, 167, 167, 167,...   \n",
       "1  [[165, 166, 165, 166, 167, 167, 167, 167, 167,...   \n",
       "2  [[165, 165, 165, 166, 167, 166, 166, 167, 167,...   \n",
       "3  [[165, 166, 165, 165, 166, 167, 167, 167, 167,...   \n",
       "4  [[165, 166, 166, 166, 166, 167, 166, 166, 167,...   \n",
       "\n",
       "                                     Imagen con zoom  \\\n",
       "0  [[161, 160, 161, 161, 161, 161, 161, 160, 99, ...   \n",
       "1  [[160, 161, 160, 161, 161, 162, 161, 162, 132,...   \n",
       "2  [[160, 161, 161, 60, 36, 76, 88, 88, 92, 102, ...   \n",
       "3  [[160, 161, 160, 45, 42, 81, 88, 88, 92, 101, ...   \n",
       "4  [[160, 160, 160, 41, 43, 81, 88, 88, 92, 102, ...   \n",
       "\n",
       "                                      Hitos faciales Etiquetas  \n",
       "0  [[62, 83], [62, 88], [63, 93], [63, 97], [64, ...     bored  \n",
       "1  [[62, 83], [62, 88], [63, 93], [63, 97], [64, ...     bored  \n",
       "2  [[63, 82], [63, 87], [63, 91], [63, 96], [65, ...     bored  \n",
       "3  [[63, 83], [63, 87], [63, 92], [64, 97], [65, ...     bored  \n",
       "4  [[63, 83], [63, 88], [63, 92], [64, 97], [65, ...     bored  "
      ]
     },
     "execution_count": 4,
     "metadata": {},
     "output_type": "execute_result"
    }
   ],
   "source": [
    "df.head()"
   ]
  },
  {
   "cell_type": "code",
   "execution_count": 5,
   "metadata": {},
   "outputs": [
    {
     "name": "stdout",
     "output_type": "stream",
     "text": [
      "[[161 160 161 ... 130  26 169]\n",
      " [160 161 161 ...  86   8 164]\n",
      " [161 160 160 ...  41   5 108]\n",
      " ...\n",
      " [148 146 146 ... 159 159 160]\n",
      " [146 146 148 ... 159 158 160]\n",
      " [145 145 145 ... 155 157 158]]\n"
     ]
    }
   ],
   "source": [
    "print(df['Imagen con zoom'][0])"
   ]
  },
  {
   "cell_type": "code",
   "execution_count": 6,
   "metadata": {},
   "outputs": [],
   "source": [
    "import numpy as np\n",
    "from PIL import Image\n",
    "\n",
    "# Función para redimensionar una imagen\n",
    "def redimensionar_imagen(imagen, nuevo_ancho, nuevo_alto):\n",
    "    img = Image.fromarray(imagen)\n",
    "    img = img.resize((nuevo_ancho, nuevo_alto))\n",
    "    return np.array(img)\n",
    "\n",
    "# Definir el tamaño al que quieres redimensionar todas las imágenes\n",
    "nuevo_ancho = 150\n",
    "nuevo_alto = 150\n",
    "\n",
    "# Redimensionar todas las imágenes a la misma forma y convertirlas en arreglos numpy\n",
    "X = np.array([redimensionar_imagen(imagen, nuevo_ancho, nuevo_alto) for imagen in df['Imagen con zoom']])\n"
   ]
  },
  {
   "cell_type": "code",
   "execution_count": 7,
   "metadata": {},
   "outputs": [],
   "source": [
    "X = X /255.0"
   ]
  },
  {
   "cell_type": "code",
   "execution_count": 8,
   "metadata": {},
   "outputs": [],
   "source": [
    "etiquetas = df['Etiquetas'].astype('category').cat.codes"
   ]
  },
  {
   "cell_type": "code",
   "execution_count": 9,
   "metadata": {},
   "outputs": [
    {
     "name": "stdout",
     "output_type": "stream",
     "text": [
      "0       0\n",
      "1       0\n",
      "2       0\n",
      "3       0\n",
      "4       0\n",
      "       ..\n",
      "4618    2\n",
      "4619    2\n",
      "4620    2\n",
      "4621    2\n",
      "4622    2\n",
      "Length: 4623, dtype: int8\n"
     ]
    }
   ],
   "source": [
    "print(etiquetas)"
   ]
  },
  {
   "cell_type": "code",
   "execution_count": 10,
   "metadata": {},
   "outputs": [],
   "source": [
    "#Dividir datos de entrenamiento y validacion\n",
    "\n",
    "X_train, X_test, y_train, y_test = train_test_split(X, etiquetas, test_size=0.3, random_state=42)\n"
   ]
  },
  {
   "cell_type": "code",
   "execution_count": 11,
   "metadata": {},
   "outputs": [],
   "source": [
    "# Definir el modelo CNN\n",
    "model = models.Sequential([\n",
    "    layers.Conv2D(256, (3, 3), activation='relu', input_shape=(nuevo_ancho, nuevo_alto, 1)),\n",
    "    layers.MaxPooling2D((2, 2)),\n",
    "    layers.Conv2D(128, (3, 3), activation='relu'),\n",
    "    layers.MaxPooling2D((2, 2)),\n",
    "    layers.Conv2D(64, (3, 3), activation='relu'),\n",
    "    layers.Flatten(),\n",
    "    layers.Dense(32, activation='relu'),\n",
    "    layers.Dense(len(etiquetas), activation='softmax')\n",
    "])"
   ]
  },
  {
   "cell_type": "code",
   "execution_count": 12,
   "metadata": {},
   "outputs": [],
   "source": [
    "class myCallback(tf.keras.callbacks.Callback):\n",
    "    def on_epoch_end(self, epoch, logs={}):\n",
    "        if logs.get('accuracy') >= 85:\n",
    "            print(\"\\nReached 85% accuracy so cancelling training!\")\n",
    "            self.model.stop_training = True\n",
    "            \n",
    "back = myCallback() "
   ]
  },
  {
   "cell_type": "code",
   "execution_count": 13,
   "metadata": {},
   "outputs": [],
   "source": [
    "#compilar el modelo\n",
    "model.compile(optimizer='adam',\n",
    "              loss='sparse_categorical_crossentropy',\n",
    "              metrics=['accuracy'])"
   ]
  },
  {
   "cell_type": "code",
   "execution_count": 15,
   "metadata": {},
   "outputs": [
    {
     "name": "stdout",
     "output_type": "stream",
     "text": [
      "Epoch 1/25\n",
      "  6/324 [..............................] - ETA: 18s - loss: 4.0184 - accuracy: 0.2500 WARNING:tensorflow:Callback method `on_train_batch_end` is slow compared to the batch time (batch time: 0.0193s vs `on_train_batch_end` time: 0.0319s). Check your callbacks.\n",
      "324/324 [==============================] - 23s 68ms/step - loss: 0.9939 - accuracy: 0.5204 - val_loss: 0.7604 - val_accuracy: 0.6251\n",
      "Epoch 2/25\n",
      "324/324 [==============================] - 20s 62ms/step - loss: 0.6643 - accuracy: 0.6687 - val_loss: 0.6571 - val_accuracy: 0.6756\n",
      "Epoch 3/25\n",
      "324/324 [==============================] - 20s 62ms/step - loss: 0.5923 - accuracy: 0.7077 - val_loss: 0.5686 - val_accuracy: 0.7311\n",
      "Epoch 4/25\n",
      "324/324 [==============================] - 20s 62ms/step - loss: 0.5669 - accuracy: 0.7123 - val_loss: 0.6526 - val_accuracy: 0.6828\n",
      "Epoch 5/25\n",
      "324/324 [==============================] - 20s 62ms/step - loss: 0.5274 - accuracy: 0.7478 - val_loss: 0.5537 - val_accuracy: 0.7239\n",
      "Epoch 6/25\n",
      "324/324 [==============================] - 20s 62ms/step - loss: 0.4968 - accuracy: 0.7661 - val_loss: 0.5419 - val_accuracy: 0.7332\n",
      "Epoch 7/25\n",
      "324/324 [==============================] - 20s 62ms/step - loss: 0.4592 - accuracy: 0.7865 - val_loss: 0.5555 - val_accuracy: 0.7455\n",
      "Epoch 8/25\n",
      "324/324 [==============================] - 20s 62ms/step - loss: 0.4207 - accuracy: 0.8161 - val_loss: 0.5494 - val_accuracy: 0.7441\n",
      "Epoch 9/25\n",
      "324/324 [==============================] - 20s 62ms/step - loss: 0.3766 - accuracy: 0.8365 - val_loss: 0.5767 - val_accuracy: 0.7520\n",
      "Epoch 10/25\n",
      "324/324 [==============================] - 20s 62ms/step - loss: 0.3403 - accuracy: 0.8554 - val_loss: 0.6184 - val_accuracy: 0.7455\n",
      "Epoch 11/25\n",
      "324/324 [==============================] - 20s 62ms/step - loss: 0.2955 - accuracy: 0.8736 - val_loss: 0.6549 - val_accuracy: 0.7340\n",
      "Epoch 12/25\n",
      "324/324 [==============================] - 20s 62ms/step - loss: 0.2643 - accuracy: 0.8903 - val_loss: 0.8058 - val_accuracy: 0.7426\n",
      "Epoch 13/25\n",
      "324/324 [==============================] - 20s 62ms/step - loss: 0.2212 - accuracy: 0.9070 - val_loss: 0.8183 - val_accuracy: 0.7397\n",
      "Epoch 14/25\n",
      "324/324 [==============================] - 20s 62ms/step - loss: 0.1913 - accuracy: 0.9181 - val_loss: 0.8601 - val_accuracy: 0.7361\n",
      "Epoch 15/25\n",
      "324/324 [==============================] - 20s 62ms/step - loss: 0.1628 - accuracy: 0.9326 - val_loss: 0.8912 - val_accuracy: 0.7448\n",
      "Epoch 16/25\n",
      "324/324 [==============================] - 20s 62ms/step - loss: 0.1452 - accuracy: 0.9422 - val_loss: 1.0976 - val_accuracy: 0.7404\n",
      "Epoch 17/25\n",
      "324/324 [==============================] - 20s 62ms/step - loss: 0.1258 - accuracy: 0.9456 - val_loss: 1.2101 - val_accuracy: 0.7318\n",
      "Epoch 18/25\n",
      "324/324 [==============================] - 20s 62ms/step - loss: 0.1027 - accuracy: 0.9595 - val_loss: 1.3255 - val_accuracy: 0.7426\n",
      "Epoch 19/25\n",
      "324/324 [==============================] - 20s 62ms/step - loss: 0.0940 - accuracy: 0.9654 - val_loss: 1.4191 - val_accuracy: 0.7397\n",
      "Epoch 20/25\n",
      "324/324 [==============================] - 20s 62ms/step - loss: 0.0976 - accuracy: 0.9629 - val_loss: 1.2145 - val_accuracy: 0.7253\n",
      "Epoch 21/25\n",
      "324/324 [==============================] - 20s 62ms/step - loss: 0.0799 - accuracy: 0.9694 - val_loss: 1.4983 - val_accuracy: 0.7347\n",
      "Epoch 22/25\n",
      "324/324 [==============================] - 20s 62ms/step - loss: 0.0772 - accuracy: 0.9697 - val_loss: 1.4845 - val_accuracy: 0.7383\n",
      "Epoch 23/25\n",
      "324/324 [==============================] - 20s 62ms/step - loss: 0.0721 - accuracy: 0.9703 - val_loss: 1.6126 - val_accuracy: 0.7304\n",
      "Epoch 24/25\n",
      "324/324 [==============================] - 20s 62ms/step - loss: 0.0529 - accuracy: 0.9781 - val_loss: 1.5616 - val_accuracy: 0.7376\n",
      "Epoch 25/25\n",
      "324/324 [==============================] - 20s 63ms/step - loss: 0.0568 - accuracy: 0.9787 - val_loss: 1.6785 - val_accuracy: 0.7318\n"
     ]
    },
    {
     "data": {
      "text/plain": [
       "<keras.callbacks.History at 0x1dcaede1850>"
      ]
     },
     "execution_count": 15,
     "metadata": {},
     "output_type": "execute_result"
    }
   ],
   "source": [
    "model.fit(X_train, y_train,batch_size=10, epochs=25, validation_data=(X_test, y_test),callbacks=[back])"
   ]
  },
  {
   "cell_type": "code",
   "execution_count": 16,
   "metadata": {},
   "outputs": [
    {
     "name": "stdout",
     "output_type": "stream",
     "text": [
      "44/44 [==============================] - 3s 75ms/step - loss: 1.6785 - accuracy: 0.7318\n",
      "Precisión del modelo en el conjunto de prueba: 0.7317952513694763\n",
      "44/44 [==============================] - 2s 54ms/step\n",
      "Matriz de confusión:\n",
      "[[278  13  15]\n",
      " [  9 385 219]\n",
      " [ 11 105 352]]\n"
     ]
    }
   ],
   "source": [
    "from sklearn.metrics import accuracy_score, confusion_matrix\n",
    "\n",
    "# Calcular la precisión del modelo en el conjunto de prueba\n",
    "test_loss, test_accuracy = model.evaluate(X_test, y_test)\n",
    "\n",
    "print(\"Precisión del modelo en el conjunto de prueba:\", test_accuracy)\n",
    "\n",
    "# Generar la matriz de confusión\n",
    "y_pred = model.predict(X_test)\n",
    "confusion_mat = confusion_matrix(y_test, np.argmax(y_pred, axis=1))\n",
    "\n",
    "print(\"Matriz de confusión:\")\n",
    "print(confusion_mat)\n"
   ]
  },
  {
   "cell_type": "code",
   "execution_count": 17,
   "metadata": {},
   "outputs": [
    {
     "name": "stdout",
     "output_type": "stream",
     "text": [
      "44/44 [==============================] - 2s 54ms/step\n"
     ]
    },
    {
     "data": {
      "image/png": "[encoded data removed]",
      "text/plain": [
       "<Figure size 800x600 with 2 Axes>"
      ]
     },
     "metadata": {},
     "output_type": "display_data"
    }
   ],
   "source": [
    "import matplotlib.pyplot as plt\n",
    "import seaborn as sns\n",
    "from sklearn.metrics import confusion_matrix\n",
    "\n",
    "# Generar la matriz de confusión\n",
    "y_pred = model.predict(X_test)\n",
    "confusion_mat = confusion_matrix(y_test, np.argmax(y_pred, axis=1))\n",
    "\n",
    "# Plotear la matriz de confusión\n",
    "plt.figure(figsize=(8, 6))\n",
    "sns.heatmap(confusion_mat, annot=True, fmt='d', cmap='Blues')\n",
    "plt.title('Matriz de Confusión')\n",
    "plt.xlabel('Etiqueta Predicha')\n",
    "plt.ylabel('Etiqueta Verdadera')\n",
    "plt.show()\n"
   ]
  },
  {
   "cell_type": "code",
   "execution_count": 21,
   "metadata": {},
   "outputs": [
    {
     "name": "stdout",
     "output_type": "stream",
     "text": [
      "1/1 [==============================] - 0s 23ms/step\n",
      "Clase predicha: 1\n"
     ]
    }
   ],
   "source": [
    "import numpy as np\n",
    "from PIL import Image\n",
    "\n",
    "# Cargar y preprocesar la imagen\n",
    "def cargar_y_preprocesar_imagen(ruta_imagen, nuevo_ancho, nuevo_alto):\n",
    "    imagen = Image.open(ruta_imagen).convert('L')  # Convertir a escala de grises si es necesario\n",
    "    imagen = imagen.resize((nuevo_ancho, nuevo_alto))\n",
    "    imagen_array = np.array(imagen)\n",
    "    imagen_array = np.expand_dims(imagen_array, axis=0)  # Agregar una dimensión de lote\n",
    "    imagen_array = np.expand_dims(imagen_array, axis=3)  # Agregar una dimensión de canal (para escala de grises)\n",
    "    return imagen_array\n",
    "\n",
    "# Definir la ruta de la imagen a predecir\n",
    "ruta_imagen = 'C:\\\\Users\\\\josek\\\\Desktop\\Maestria\\\\SEMESTRE 2\\\\TOPICOS DE IA\\\\CORPUS\\\\bored\\\\222.jpeg'\n",
    "\n",
    "# Cargar y preprocesar la imagen\n",
    "imagen_array = cargar_y_preprocesar_imagen(ruta_imagen, 150, 150)\n",
    "\n",
    "# Realizar la predicción\n",
    "prediccion = model.predict(imagen_array)\n",
    "\n",
    "# Obtener la clase predicha\n",
    "clase_predicha = np.argmax(prediccion)\n",
    "\n",
    "# Imprimir la clase predicha\n",
    "print(\"Clase predicha:\", clase_predicha)"
   ]
  },
  {
   "cell_type": "code",
   "execution_count": 22,
   "metadata": {},
   "outputs": [],
   "source": [
    "model.save('affective_CNN_trainned_7318acc_3emotions.h5')"
   ]
  }
 ],
 "metadata": {
  "kernelspec": {
   "display_name": "Python 3",
   "language": "python",
   "name": "python3"
  },
  "language_info": {
   "codemirror_mode": {
    "name": "ipython",
    "version": 3
   },
   "file_extension": ".py",
   "mimetype": "text/x-python",
   "name": "python",
   "nbconvert_exporter": "python",
   "pygments_lexer": "ipython3",
   "version": "3.9.19"
  }
 },
 "nbformat": 4,
 "nbformat_minor": 2
}
