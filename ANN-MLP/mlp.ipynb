{
 "cells": [
  {
   "cell_type": "code",
   "execution_count": 3,
   "metadata": {},
   "outputs": [],
   "source": [
    "import numpy as np"
   ]
  },
  {
   "cell_type": "markdown",
   "metadata": {},
   "source": [
    "Aqui se definen los datos de entrada (X) y las etiquetas de salida (y) X contiene las posibles combinaciones de entrada para la compuerta XOR (0 y 1) y y representa las salidas correspondientes"
   ]
  },
  {
   "cell_type": "code",
   "execution_count": 4,
   "metadata": {},
   "outputs": [],
   "source": [
    "\n",
    "# Datos de entrada (ejemplo: XOR)\n",
    "X = np.array([[0, 0], [0, 1], [1, 0], [1, 1]])\n",
    "# Etiquetas de salida (ejemplo: resultados de XOR)\n",
    "y = np.array([[0], [1], [1], [0]])"
   ]
  },
  {
   "cell_type": "markdown",
   "metadata": {},
   "source": [
    "Se definen los parámetros de la red neuronal, como el tamaño de la capa de entrada (input_size), el tamaño de la capa oculta (hidden_size), el tamaño de la capa de salida (output_size) y la tasa de aprendizaje (learning_rate)."
   ]
  },
  {
   "cell_type": "code",
   "execution_count": 5,
   "metadata": {},
   "outputs": [],
   "source": [
    "# Parámetros de la red neuronal\n",
    "input_size = 2\n",
    "hidden_size = 4\n",
    "output_size = 1\n",
    "learning_rate = 0.1"
   ]
  },
  {
   "cell_type": "markdown",
   "metadata": {},
   "source": [
    "Aquí se inicializan los pesos (W1 y W2) y sesgos (b1 y b2) de la red neuronal de forma aleatoria utilizando la función numpy.random.randn() para generar números aleatorios distribuidos normalmente."
   ]
  },
  {
   "cell_type": "code",
   "execution_count": 6,
   "metadata": {},
   "outputs": [],
   "source": [
    "# Inicialización de pesos y sesgos\n",
    "W1 = np.random.randn(input_size, hidden_size)\n",
    "b1 = np.zeros((1, hidden_size))\n",
    "W2 = np.random.randn(hidden_size, output_size)\n",
    "b2 = np.zeros((1, output_size))"
   ]
  },
  {
   "cell_type": "markdown",
   "metadata": {},
   "source": [
    "Se define la función de activación ReLU (Rectified Linear Unit), que se utiliza en las capas ocultas de la red neuronal. ReLU devuelve el valor máximo entre 0 y x."
   ]
  },
  {
   "cell_type": "code",
   "execution_count": 7,
   "metadata": {},
   "outputs": [],
   "source": [
    "# Función de activación (ReLU)\n",
    "def relu(x):\n",
    "    return np.maximum(0, x)"
   ]
  },
  {
   "cell_type": "markdown",
   "metadata": {},
   "source": [
    "Se inicia un bucle for que iterará a través de 10,000 épocas de entrenamiento.\n",
    "\n",
    "Se realiza un pase hacia adelante (forward pass) a través de la red neuronal. Se calculan las salidas de las capas ocultas y de salida aplicando las funciones de activación ReLU.\n",
    "Se calcula el error entre las salidas reales (y) y las salidas predichas (output).\n",
    "Se realiza la retropropagación del error (backpropagation) para calcular los gradientes de los pesos y los sesgos.\n",
    "Se actualizan los pesos y sesgos utilizando el descenso del gradiente, multiplicando los gradientes por la tasa de aprendizaje y sumándolos a los pesos y sesgos actuales.\n",
    "Se realiza una predicción utilizando la red neuronal entrenada. Se calcula la salida de la capa oculta y la salida final aplicando la función de activación ReLU."
   ]
  },
  {
   "cell_type": "code",
   "execution_count": 8,
   "metadata": {},
   "outputs": [],
   "source": [
    "# Entrenamiento de la red neuronal\n",
    "for epoch in range(10000):\n",
    "    # Forward pass\n",
    "    hidden_layer_input = np.dot(X, W1) + b1\n",
    "    hidden_layer_output = relu(hidden_layer_input)\n",
    "    output_layer_input = np.dot(hidden_layer_output, W2) + b2\n",
    "    output = relu(output_layer_input)\n",
    "    # Cálculo del error\n",
    "    error = y - output\n",
    "     # Backpropagation\n",
    "    d_output = error\n",
    "    d_hidden_layer = np.dot(d_output, W2.T) * (hidden_layer_output > 0)\n",
    "    # Actualización de pesos y sesgos\n",
    "    W2 += np.dot(hidden_layer_output.T, d_output) * learning_rate\n",
    "    b2 += np.sum(d_output, axis=0) * learning_rate\n",
    "    W1 += np.dot(X.T, d_hidden_layer) * learning_rate\n",
    "    b1 += np.sum(d_hidden_layer, axis=0) * learning_rate"
   ]
  },
  {
   "cell_type": "markdown",
   "metadata": {},
   "source": [
    "Se imprimen las predicciones finales de la red neuronal."
   ]
  },
  {
   "cell_type": "code",
   "execution_count": 9,
   "metadata": {},
   "outputs": [
    {
     "name": "stdout",
     "output_type": "stream",
     "text": [
      "Predicciones:\n",
      "[[0.00000000e+00]\n",
      " [1.00000000e+00]\n",
      " [1.00000000e+00]\n",
      " [7.21644966e-16]]\n"
     ]
    }
   ],
   "source": [
    "# Predicción\n",
    "hidden_layer = relu(np.dot(X, W1) + b1)\n",
    "predicted_output = relu(np.dot(hidden_layer, W2) + b2)\n",
    "\n",
    "print(\"Predicciones:\")\n",
    "print(predicted_output)"
   ]
  },
  {
   "cell_type": "markdown",
   "metadata": {},
   "source": []
  }
 ],
 "metadata": {
  "kernelspec": {
   "display_name": "Python 3",
   "language": "python",
   "name": "python3"
  },
  "language_info": {
   "codemirror_mode": {
    "name": "ipython",
    "version": 3
   },
   "file_extension": ".py",
   "mimetype": "text/x-python",
   "name": "python",
   "nbconvert_exporter": "python",
   "pygments_lexer": "ipython3",
   "version": "3.9.0"
  }
 },
 "nbformat": 4,
 "nbformat_minor": 2
}
